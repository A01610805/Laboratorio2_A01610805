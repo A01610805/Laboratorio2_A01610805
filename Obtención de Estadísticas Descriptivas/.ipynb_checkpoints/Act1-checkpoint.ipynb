{
 "cells": [
  {
   "cell_type": "code",
   "execution_count": 2,
   "id": "724a83b0",
   "metadata": {},
   "outputs": [],
   "source": [
    "import pandas as pd\n",
    "import numpy as np"
   ]
  },
  {
   "cell_type": "code",
   "execution_count": 3,
   "id": "d29a7da9",
   "metadata": {},
   "outputs": [
    {
     "name": "stdout",
     "output_type": "stream",
     "text": [
      "                                                   Name  Rating  \\\n",
      "0                                        Dynamic Reader     3.5   \n",
      "1     Chemistry, Organic Chemistry and Biochemistry-...     3.0   \n",
      "2                                            BookViewer     3.5   \n",
      "3                                    Brick Instructions     3.5   \n",
      "4     Introduction to Python Programming by GoLearni...     2.0   \n",
      "...                                                 ...     ...   \n",
      "5317                                            JS King     1.0   \n",
      "5318                                        MQTTSniffer     2.5   \n",
      "5319                      Dev Utils - JSON, CSV and XML     4.0   \n",
      "5320                                        Simply Text     4.0   \n",
      "5321                                                NaN     NaN   \n",
      "\n",
      "      No of people Rated         Category        Date     Price  \n",
      "0                    268            Books  07-01-2014      Free  \n",
      "1                    627            Books  08-01-2014      Free  \n",
      "2                    593            Books  29-02-2016      Free  \n",
      "3                    684            Books  30-01-2018      Free  \n",
      "4                    634            Books  30-01-2018      Free  \n",
      "...                  ...              ...         ...       ...  \n",
      "5317                 720  Developer Tools  19-07-2018  ₹ 269.00  \n",
      "5318                 500  Developer Tools  10-04-2017   ₹ 64.00  \n",
      "5319                 862  Developer Tools  18-11-2019  ₹ 269.00  \n",
      "5320                 386  Developer Tools  23-01-2014  ₹ 219.00  \n",
      "5321                 948              NaN         NaN       NaN  \n",
      "\n",
      "[5322 rows x 6 columns]\n",
      "<class 'pandas.core.frame.DataFrame'>\n",
      "RangeIndex: 5322 entries, 0 to 5321\n",
      "Data columns (total 6 columns):\n",
      " #   Column              Non-Null Count  Dtype  \n",
      "---  ------              --------------  -----  \n",
      " 0   Name                5321 non-null   object \n",
      " 1   Rating              5321 non-null   float64\n",
      " 2   No of people Rated  5322 non-null   int64  \n",
      " 3   Category            5321 non-null   object \n",
      " 4   Date                5321 non-null   object \n",
      " 5   Price               5321 non-null   object \n",
      "dtypes: float64(1), int64(1), object(4)\n",
      "memory usage: 249.6+ KB\n"
     ]
    }
   ],
   "source": [
    "df = pd.read_csv('msft.csv')\n",
    "print (df)\n",
    "df.info()"
   ]
  },
  {
   "cell_type": "code",
   "execution_count": 4,
   "id": "0b868f69",
   "metadata": {},
   "outputs": [
    {
     "name": "stdout",
     "output_type": "stream",
     "text": [
      "0       268\n",
      "1       627\n",
      "2       593\n",
      "3       684\n",
      "4       634\n",
      "       ... \n",
      "5317    720\n",
      "5318    500\n",
      "5319    862\n",
      "5320    386\n",
      "5321    948\n",
      "Name: No of people Rated, Length: 5322, dtype: int64\n"
     ]
    }
   ],
   "source": [
    "rat = df['Rating']\n",
    "ppl = df['No of people Rated']\n",
    "print(ppl)"
   ]
  },
  {
   "cell_type": "code",
   "execution_count": 6,
   "id": "43fd6a06",
   "metadata": {},
   "outputs": [
    {
     "name": "stdout",
     "output_type": "stream",
     "text": [
      "Rating Mean:  3.7927081375681264\n",
      "Rating Standard Deviation:  0.9915881001184446\n",
      "Rating Max:  5.0\n",
      "Rating Min:  1.0 \n",
      "\n",
      "Number of People Mean:  551.8731679819616\n",
      "Number of People Standard Deviation:  259.79567658385423\n",
      "Rating Max:  1000\n",
      "Rating Min:  100\n"
     ]
    }
   ],
   "source": [
    "y1 = np.mean(rat)\n",
    "des1 = np.std(rat)\n",
    "mx1 = np.max(rat)\n",
    "mn1 = np.min(rat)\n",
    "\n",
    "y2 = np.mean(ppl)\n",
    "des2 = np.std(ppl)\n",
    "mx2 = np.max(ppl)\n",
    "mn2 = np.min(ppl)\n",
    "\n",
    "print(\"Rating Mean: \", y1)\n",
    "print(\"Rating Standard Deviation: \", des1)\n",
    "print(\"Rating Max: \", mx1)\n",
    "print(\"Rating Min: \", mn1, \"\\n\")\n",
    "\n",
    "\n",
    "print(\"Number of People Mean: \", y2)\n",
    "print(\"Number of People Standard Deviation: \", des2)\n",
    "print(\"Rating Max: \", mx2)\n",
    "print(\"Rating Min: \", mn2)\n"
   ]
  },
  {
   "cell_type": "code",
   "execution_count": null,
   "id": "009c1abd",
   "metadata": {},
   "outputs": [],
   "source": []
  }
 ],
 "metadata": {
  "kernelspec": {
   "display_name": "Python 3",
   "language": "python",
   "name": "python3"
  },
  "language_info": {
   "codemirror_mode": {
    "name": "ipython",
    "version": 3
   },
   "file_extension": ".py",
   "mimetype": "text/x-python",
   "name": "python",
   "nbconvert_exporter": "python",
   "pygments_lexer": "ipython3",
   "version": "3.8.8"
  }
 },
 "nbformat": 4,
 "nbformat_minor": 5
}
