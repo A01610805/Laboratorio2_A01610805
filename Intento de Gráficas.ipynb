{
 "cells": [
  {
   "cell_type": "code",
   "execution_count": 7,
   "id": "5cdb2169",
   "metadata": {},
   "outputs": [],
   "source": [
    "import pandas as pd\n",
    "import numpy as np\n",
    "import matplotlib.pyplot as plt\n",
    "import sklearn\n",
    "from sklearn.cluster import KMeans\n",
    "from mpl_toolkits.mplot3d import Axes3D\n",
    "from sklearn.preprocessing import scale\n",
    "import sklearn.metrics as sm\n",
    "from sklearn import datasets\n",
    "from sklearn.metrics import confusion_matrix, classification_report\n",
    "\n",
    "plt.rcParams['figure.figsize'] = (16, 9)"
   ]
  },
  {
   "cell_type": "code",
   "execution_count": 5,
   "id": "e1dbc0a1",
   "metadata": {
    "scrolled": false
   },
   "outputs": [
    {
     "name": "stdout",
     "output_type": "stream",
     "text": [
      "                                                   Name  Rating  \\\n",
      "0                                        Dynamic Reader     3.5   \n",
      "1     Chemistry, Organic Chemistry and Biochemistry-...     3.0   \n",
      "2                                            BookViewer     3.5   \n",
      "3                                    Brick Instructions     3.5   \n",
      "4     Introduction to Python Programming by GoLearni...     2.0   \n",
      "...                                                 ...     ...   \n",
      "5317                                            JS King     1.0   \n",
      "5318                                        MQTTSniffer     2.5   \n",
      "5319                      Dev Utils - JSON, CSV and XML     4.0   \n",
      "5320                                        Simply Text     4.0   \n",
      "5321                                                NaN     NaN   \n",
      "\n",
      "      No of people Rated         Category        Date     Price  \n",
      "0                    268            Books  07-01-2014      Free  \n",
      "1                    627            Books  08-01-2014      Free  \n",
      "2                    593            Books  29-02-2016      Free  \n",
      "3                    684            Books  30-01-2018      Free  \n",
      "4                    634            Books  30-01-2018      Free  \n",
      "...                  ...              ...         ...       ...  \n",
      "5317                 720  Developer Tools  19-07-2018  ₹ 269.00  \n",
      "5318                 500  Developer Tools  10-04-2017   ₹ 64.00  \n",
      "5319                 862  Developer Tools  18-11-2019  ₹ 269.00  \n",
      "5320                 386  Developer Tools  23-01-2014  ₹ 219.00  \n",
      "5321                 948              NaN         NaN       NaN  \n",
      "\n",
      "[5322 rows x 6 columns]\n",
      "<class 'pandas.core.frame.DataFrame'>\n",
      "RangeIndex: 5322 entries, 0 to 5321\n",
      "Data columns (total 6 columns):\n",
      " #   Column              Non-Null Count  Dtype  \n",
      "---  ------              --------------  -----  \n",
      " 0   Name                5321 non-null   object \n",
      " 1   Rating              5321 non-null   float64\n",
      " 2   No of people Rated  5322 non-null   int64  \n",
      " 3   Category            5321 non-null   object \n",
      " 4   Date                5321 non-null   object \n",
      " 5   Price               5321 non-null   object \n",
      "dtypes: float64(1), int64(1), object(4)\n",
      "memory usage: 249.6+ KB\n"
     ]
    }
   ],
   "source": [
    "iris = datasets.load_iris()\n",
    "X = scale(iris.data)\n",
    "y = pd.DataFrame(iris.target)\n"
   ]
  },
  {
   "cell_type": "code",
   "execution_count": null,
   "id": "0ec620f5",
   "metadata": {},
   "outputs": [],
   "source": []
  }
 ],
 "metadata": {
  "kernelspec": {
   "display_name": "Python 3",
   "language": "python",
   "name": "python3"
  },
  "language_info": {
   "codemirror_mode": {
    "name": "ipython",
    "version": 3
   },
   "file_extension": ".py",
   "mimetype": "text/x-python",
   "name": "python",
   "nbconvert_exporter": "python",
   "pygments_lexer": "ipython3",
   "version": "3.8.8"
  }
 },
 "nbformat": 4,
 "nbformat_minor": 5
}
